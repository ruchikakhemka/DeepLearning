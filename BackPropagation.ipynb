{
  "nbformat": 4,
  "nbformat_minor": 0,
  "metadata": {
    "colab": {
      "name": "BackPropagation.ipynb",
      "provenance": [],
      "collapsed_sections": [],
      "include_colab_link": true
    },
    "kernelspec": {
      "name": "python3",
      "display_name": "Python 3"
    },
    "accelerator": "GPU"
  },
  "cells": [
    {
      "cell_type": "markdown",
      "metadata": {
        "id": "view-in-github",
        "colab_type": "text"
      },
      "source": [
        "<a href=\"https://colab.research.google.com/github/ruchikakhemka/DeepLearning/blob/master/BackPropagation.ipynb\" target=\"_parent\"><img src=\"https://colab.research.google.com/assets/colab-badge.svg\" alt=\"Open In Colab\"/></a>"
      ]
    },
    {
      "cell_type": "code",
      "metadata": {
        "id": "xr71m32AbCnv",
        "colab_type": "code",
        "colab": {}
      },
      "source": [
        "#importing libraries\n",
        "import numpy as np ## For numerical python\n"
      ],
      "execution_count": 0,
      "outputs": []
    },
    {
      "cell_type": "code",
      "metadata": {
        "id": "eTj5emTHudVg",
        "colab_type": "code",
        "colab": {}
      },
      "source": [
        "def sigmoid(X):\n",
        "  return 1 / (1 + np.exp(-X))"
      ],
      "execution_count": 0,
      "outputs": []
    },
    {
      "cell_type": "code",
      "metadata": {
        "id": "m6ofFIGZ_bLF",
        "colab_type": "code",
        "colab": {}
      },
      "source": [
        "def sigmoid_prime(X):\n",
        "  return X*(1-X)"
      ],
      "execution_count": 0,
      "outputs": []
    },
    {
      "cell_type": "code",
      "metadata": {
        "id": "0j4tohAwFpRl",
        "colab_type": "code",
        "colab": {}
      },
      "source": [
        "inputs = np.array([2, 9]) #input layer units\n",
        "num_hidden_layers = 2 #2 hidden units h1, h2\n",
        "input_layer_weights = np.array([[0.2,0.8],[0.1, 0.7]]) #weights between input layer and hidden layer\n",
        "hidden_weights = np.array([[0.4],[0.5]]) #weights between hidden layer and output layer\n",
        "target = 92 #targeted value to predict is 92"
      ],
      "execution_count": 0,
      "outputs": []
    },
    {
      "cell_type": "code",
      "metadata": {
        "id": "iVyyKkrbfN7a",
        "colab_type": "code",
        "colab": {}
      },
      "source": [
        "#Scale output\n",
        "target = target/100"
      ],
      "execution_count": 0,
      "outputs": []
    },
    {
      "cell_type": "code",
      "metadata": {
        "id": "IXBQf-gyGzVN",
        "colab_type": "code",
        "colab": {}
      },
      "source": [
        "#Defining a neural network with 2 input units, 2 hidden units and 1 output unit\n",
        "class Neural_Network():\n",
        "  #initializing the layers of the network\n",
        "  def __init__(self, input_size, hidden_size, output_size,input_layer_weights, hidden_weights):\n",
        "    self.input_size = input_size\n",
        "    self.hidden_size = hidden_size\n",
        "    self.output_size = output_size\n",
        "    self.input_layer_weights = input_layer_weights\n",
        "    self.hidden_weights = hidden_weights\n",
        "    self.delta_weights_inputlayer_hidden = np.zeros(self.input_layer_weights.shape)\n",
        "    self.delta_weights_hidden_ouputlayer = np.zeros(self.hidden_weights.shape)\n",
        "\n",
        "  #defining the forward pass to calculate the predicted value given the input units and weights\n",
        "  def feed_forward(self,features):\n",
        "    \n",
        "    hidden_output = sigmoid(np.dot(self.input_layer_weights, features))\n",
        "    output = sigmoid(np.dot(self.hidden_weights.T, hidden_output))\n",
        "    return output, hidden_output\n",
        "\n",
        "  #Defining backward pass\n",
        "  #calculating the erroe with respect to each weights at each layer\n",
        "  def backward(self, x, target, predicted, learning_rate, hidden_output):\n",
        "    error = target - predicted\n",
        "    print(\"Error: \", error)\n",
        "    output_error_term = error * sigmoid_prime(predicted)\n",
        "    #hidden layer contribution in error\n",
        "    hidden_error_term = np.dot(output_error_term,self.hidden_weights.T)*sigmoid_prime(hidden_output)\n",
        "    self.delta_weights_hidden_ouputlayer = output_error_term * hidden_output\n",
        "    self.delta_weights_inputlayer_hidden = hidden_error_term * x[:, None]\n",
        "    print(\"change in Weights for input layer:\",self.delta_weights_inputlayer_hidden)\n",
        "    print(\"Change in weights for hidden layer:\", self.delta_weights_hidden_ouputlayer)\n",
        "    #update weights\n",
        "    self.input_layer_weights += learning_rate * self.delta_weights_inputlayer_hidden\n",
        "    self.hidden_weights = self.hidden_weights + (learning_rate * self.delta_weights_hidden_ouputlayer)\n",
        "    print(\"Updated Weights for input layer:\",self.input_layer_weights)\n",
        "    print(\"Updated weights for hidden layer:\", self.hidden_weights)\n",
        "    \n"
      ],
      "execution_count": 0,
      "outputs": []
    },
    {
      "cell_type": "code",
      "metadata": {
        "id": "ewgpW2ffYIj7",
        "colab_type": "code",
        "colab": {}
      },
      "source": [
        "#Instantiating Newural Network\n",
        "NN = Neural_Network(2,2,1,input_layer_weights, hidden_weights)\n",
        "\n",
        "    \n",
        "  "
      ],
      "execution_count": 0,
      "outputs": []
    },
    {
      "cell_type": "code",
      "metadata": {
        "id": "JN3XGKd2jlOP",
        "colab_type": "code",
        "colab": {}
      },
      "source": [
        "#Training the neural network\n",
        "#This is just one iteration of the forward and backward pass in the neural network\n",
        "def train(x,y):\n",
        "    print(\"Actual_output: \", y)\n",
        "    predicted_output, hidden_output = NN.feed_forward(x)\n",
        "    print(\"Predicted output: \", predicted_output)\n",
        "    NN.backward(x,y, predicted_output, 0.5, hidden_output)\n",
        "    print(\"Training Loss:\", np.mean(np.square(NN.feed_forward(x))))"
      ],
      "execution_count": 0,
      "outputs": []
    },
    {
      "cell_type": "code",
      "metadata": {
        "id": "xt09gzSzkJMz",
        "colab_type": "code",
        "colab": {
          "base_uri": "https://localhost:8080/",
          "height": 221
        },
        "outputId": "ebc73b33-665f-4052-b2ff-1628018b7f3c"
      },
      "source": [
        "train(inputs,target)"
      ],
      "execution_count": 15,
      "outputs": [
        {
          "output_type": "stream",
          "text": [
            "Actual_output:  0.92\n",
            "Predicted output:  [0.71075433]\n",
            "Error:  [0.20924567]\n",
            "(2, 1)\n",
            "change in Weights for input layer: [[1.71999374e-05 6.43909691e-05]\n",
            " [7.73997183e-05 2.89759361e-04]]\n",
            "Change in weights for hidden layer: [0.04299576 0.04295279]\n",
            "Updated Weights for input layer: [[0.2000172  0.80006444]\n",
            " [0.10007741 0.70028996]]\n",
            "Updated weights for hidden layer: [[0.42149788 0.42147639]\n",
            " [0.52149788 0.52147639]]\n",
            "Training Loss: 0.7578422907931888\n"
          ],
          "name": "stdout"
        }
      ]
    }
  ]
}